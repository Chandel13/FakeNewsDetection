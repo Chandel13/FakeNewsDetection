{
  "nbformat": 4,
  "nbformat_minor": 0,
  "metadata": {
    "kernelspec": {
      "display_name": "Python 3",
      "language": "python",
      "name": "python3"
    },
    "language_info": {
      "codemirror_mode": {
        "name": "ipython",
        "version": 3
      },
      "file_extension": ".py",
      "mimetype": "text/x-python",
      "name": "python",
      "nbconvert_exporter": "python",
      "pygments_lexer": "ipython3",
      "version": "3.7.4"
    },
    "colab": {
      "name": "FakeNewsDetectionUsingNLP.ipynb",
      "provenance": [],
      "collapsed_sections": [],
      "toc_visible": true
    }
  },
  "cells": [
    {
      "cell_type": "markdown",
      "metadata": {
        "id": "kZgN_ccuQ7cy"
      },
      "source": [
        "## Fake News Detection Using NLP\n",
        "\n",
        "Dataset: https://www.kaggle.com/c/fake-news/data#"
      ]
    },
    {
      "cell_type": "code",
      "metadata": {
        "id": "Zqxjc7mzQ7cy"
      },
      "source": [
        "import pandas as pd"
      ],
      "execution_count": 1,
      "outputs": []
    },
    {
      "cell_type": "code",
      "metadata": {
        "colab": {
          "base_uri": "https://localhost:8080/"
        },
        "id": "Q5QOy4GIPb_3",
        "outputId": "4e88f6d9-5702-46d0-e241-428985fe8337"
      },
      "source": [
        "from google.colab import drive\n",
        "drive.mount('/content/drive')"
      ],
      "execution_count": 2,
      "outputs": [
        {
          "output_type": "stream",
          "text": [
            "Mounted at /content/drive\n"
          ],
          "name": "stdout"
        }
      ]
    },
    {
      "cell_type": "code",
      "metadata": {
        "id": "M8aunX4DQ7cy"
      },
      "source": [
        "df=pd.read_csv('/content/drive/MyDrive/FakeNewsDataset/train.csv')"
      ],
      "execution_count": 3,
      "outputs": []
    },
    {
      "cell_type": "code",
      "metadata": {
        "colab": {
          "base_uri": "https://localhost:8080/",
          "height": 204
        },
        "id": "rf-RetVkQ7cz",
        "outputId": "fe490d40-82c9-4b9d-9fbe-8f094c7dec51"
      },
      "source": [
        "df.head()"
      ],
      "execution_count": 4,
      "outputs": [
        {
          "output_type": "execute_result",
          "data": {
            "text/html": [
              "<div>\n",
              "<style scoped>\n",
              "    .dataframe tbody tr th:only-of-type {\n",
              "        vertical-align: middle;\n",
              "    }\n",
              "\n",
              "    .dataframe tbody tr th {\n",
              "        vertical-align: top;\n",
              "    }\n",
              "\n",
              "    .dataframe thead th {\n",
              "        text-align: right;\n",
              "    }\n",
              "</style>\n",
              "<table border=\"1\" class=\"dataframe\">\n",
              "  <thead>\n",
              "    <tr style=\"text-align: right;\">\n",
              "      <th></th>\n",
              "      <th>id</th>\n",
              "      <th>title</th>\n",
              "      <th>author</th>\n",
              "      <th>text</th>\n",
              "      <th>label</th>\n",
              "    </tr>\n",
              "  </thead>\n",
              "  <tbody>\n",
              "    <tr>\n",
              "      <th>0</th>\n",
              "      <td>0</td>\n",
              "      <td>House Dem Aide: We Didn’t Even See Comey’s Let...</td>\n",
              "      <td>Darrell Lucus</td>\n",
              "      <td>House Dem Aide: We Didn’t Even See Comey’s Let...</td>\n",
              "      <td>1</td>\n",
              "    </tr>\n",
              "    <tr>\n",
              "      <th>1</th>\n",
              "      <td>1</td>\n",
              "      <td>FLYNN: Hillary Clinton, Big Woman on Campus - ...</td>\n",
              "      <td>Daniel J. Flynn</td>\n",
              "      <td>Ever get the feeling your life circles the rou...</td>\n",
              "      <td>0</td>\n",
              "    </tr>\n",
              "    <tr>\n",
              "      <th>2</th>\n",
              "      <td>2</td>\n",
              "      <td>Why the Truth Might Get You Fired</td>\n",
              "      <td>Consortiumnews.com</td>\n",
              "      <td>Why the Truth Might Get You Fired October 29, ...</td>\n",
              "      <td>1</td>\n",
              "    </tr>\n",
              "    <tr>\n",
              "      <th>3</th>\n",
              "      <td>3</td>\n",
              "      <td>15 Civilians Killed In Single US Airstrike Hav...</td>\n",
              "      <td>Jessica Purkiss</td>\n",
              "      <td>Videos 15 Civilians Killed In Single US Airstr...</td>\n",
              "      <td>1</td>\n",
              "    </tr>\n",
              "    <tr>\n",
              "      <th>4</th>\n",
              "      <td>4</td>\n",
              "      <td>Iranian woman jailed for fictional unpublished...</td>\n",
              "      <td>Howard Portnoy</td>\n",
              "      <td>Print \\nAn Iranian woman has been sentenced to...</td>\n",
              "      <td>1</td>\n",
              "    </tr>\n",
              "  </tbody>\n",
              "</table>\n",
              "</div>"
            ],
            "text/plain": [
              "   id  ... label\n",
              "0   0  ...     1\n",
              "1   1  ...     0\n",
              "2   2  ...     1\n",
              "3   3  ...     1\n",
              "4   4  ...     1\n",
              "\n",
              "[5 rows x 5 columns]"
            ]
          },
          "metadata": {
            "tags": []
          },
          "execution_count": 4
        }
      ]
    },
    {
      "cell_type": "markdown",
      "metadata": {
        "id": "_d1thaVzV_lS"
      },
      "source": [
        "Drop Nan Values"
      ]
    },
    {
      "cell_type": "code",
      "metadata": {
        "id": "aBnQrr0vQ7c0"
      },
      "source": [
        "df=df.dropna()"
      ],
      "execution_count": 5,
      "outputs": []
    },
    {
      "cell_type": "markdown",
      "metadata": {
        "id": "8c1wXHiKWDFz"
      },
      "source": [
        "Get the Independent Features"
      ]
    },
    {
      "cell_type": "code",
      "metadata": {
        "id": "PbQZuu7jQ7c0"
      },
      "source": [
        "X=df.drop('label',axis=1)"
      ],
      "execution_count": 6,
      "outputs": []
    },
    {
      "cell_type": "markdown",
      "metadata": {
        "id": "W-pbPYHXWNoc"
      },
      "source": [
        " Get the Dependent features"
      ]
    },
    {
      "cell_type": "code",
      "metadata": {
        "id": "C1N_WK0EQ7c0"
      },
      "source": [
        "y=df['label']"
      ],
      "execution_count": 7,
      "outputs": []
    },
    {
      "cell_type": "code",
      "metadata": {
        "colab": {
          "base_uri": "https://localhost:8080/"
        },
        "id": "jpXWEgoJQ7c0",
        "outputId": "270c65f1-05b6-40f6-82f8-46e91f78fa68"
      },
      "source": [
        "X.shape"
      ],
      "execution_count": 8,
      "outputs": [
        {
          "output_type": "execute_result",
          "data": {
            "text/plain": [
              "(18285, 4)"
            ]
          },
          "metadata": {
            "tags": []
          },
          "execution_count": 8
        }
      ]
    },
    {
      "cell_type": "code",
      "metadata": {
        "colab": {
          "base_uri": "https://localhost:8080/"
        },
        "id": "V2g4V7quQ7c1",
        "outputId": "1d5c309f-1503-4b05-cd50-bb389d7718bb"
      },
      "source": [
        "y.shape"
      ],
      "execution_count": 9,
      "outputs": [
        {
          "output_type": "execute_result",
          "data": {
            "text/plain": [
              "(18285,)"
            ]
          },
          "metadata": {
            "tags": []
          },
          "execution_count": 9
        }
      ]
    },
    {
      "cell_type": "markdown",
      "metadata": {
        "id": "8iGNH8bTCv5A"
      },
      "source": [
        "#Data Pre-processing"
      ]
    },
    {
      "cell_type": "code",
      "metadata": {
        "id": "1RJqkVtNQ7c1"
      },
      "source": [
        "import tensorflow as tf"
      ],
      "execution_count": 10,
      "outputs": []
    },
    {
      "cell_type": "code",
      "metadata": {
        "id": "qdzxSwNIQ7c2"
      },
      "source": [
        "from tensorflow.keras.layers import Embedding\n",
        "from tensorflow.keras.preprocessing.sequence import pad_sequences\n",
        "from tensorflow.keras.models import Sequential\n",
        "from tensorflow.keras.preprocessing.text import one_hot\n",
        "from tensorflow.keras.layers import LSTM\n",
        "from tensorflow.keras.layers import Dense"
      ],
      "execution_count": 11,
      "outputs": []
    },
    {
      "cell_type": "code",
      "metadata": {
        "colab": {
          "base_uri": "https://localhost:8080/",
          "height": 36
        },
        "id": "0NZs_VEfQ7c1",
        "outputId": "a4ecfedb-84b4-4e1f-8edd-b3a1b30b077f"
      },
      "source": [
        "tf.__version__"
      ],
      "execution_count": 12,
      "outputs": [
        {
          "output_type": "execute_result",
          "data": {
            "application/vnd.google.colaboratory.intrinsic+json": {
              "type": "string"
            },
            "text/plain": [
              "'2.3.0'"
            ]
          },
          "metadata": {
            "tags": []
          },
          "execution_count": 12
        }
      ]
    },
    {
      "cell_type": "markdown",
      "metadata": {
        "id": "KsGDJpPNZB-k"
      },
      "source": [
        "Vocabulary size"
      ]
    },
    {
      "cell_type": "code",
      "metadata": {
        "id": "9D8vvup-Q7c2"
      },
      "source": [
        "voc_size=5000"
      ],
      "execution_count": 13,
      "outputs": []
    },
    {
      "cell_type": "markdown",
      "metadata": {
        "id": "Kky77jfNQ7c2"
      },
      "source": [
        "###Onehot Representation"
      ]
    },
    {
      "cell_type": "code",
      "metadata": {
        "id": "JA8QITEuQ7c2"
      },
      "source": [
        "messages=X.copy()"
      ],
      "execution_count": 14,
      "outputs": []
    },
    {
      "cell_type": "code",
      "metadata": {
        "colab": {
          "base_uri": "https://localhost:8080/",
          "height": 36
        },
        "id": "zJ5OtdY0Q7c2",
        "outputId": "cbfb1196-671b-487b-9818-e7ceaad8f457"
      },
      "source": [
        "messages['title'][1]"
      ],
      "execution_count": 15,
      "outputs": [
        {
          "output_type": "execute_result",
          "data": {
            "application/vnd.google.colaboratory.intrinsic+json": {
              "type": "string"
            },
            "text/plain": [
              "'FLYNN: Hillary Clinton, Big Woman on Campus - Breitbart'"
            ]
          },
          "metadata": {
            "tags": []
          },
          "execution_count": 15
        }
      ]
    },
    {
      "cell_type": "code",
      "metadata": {
        "id": "RAUH8XbPQ7c2"
      },
      "source": [
        "messages.reset_index(inplace=True)"
      ],
      "execution_count": 16,
      "outputs": []
    },
    {
      "cell_type": "code",
      "metadata": {
        "id": "gvrMZpSZQ7c2"
      },
      "source": [
        "import nltk\n",
        "import re\n",
        "from nltk.corpus import stopwords"
      ],
      "execution_count": 17,
      "outputs": []
    },
    {
      "cell_type": "code",
      "metadata": {
        "colab": {
          "base_uri": "https://localhost:8080/"
        },
        "id": "8cstqcS8Q7c2",
        "outputId": "03e11186-1a3a-48ab-a269-0ccecf75288f"
      },
      "source": [
        "nltk.download('stopwords')"
      ],
      "execution_count": 18,
      "outputs": [
        {
          "output_type": "stream",
          "text": [
            "[nltk_data] Downloading package stopwords to /root/nltk_data...\n",
            "[nltk_data]   Unzipping corpora/stopwords.zip.\n"
          ],
          "name": "stdout"
        },
        {
          "output_type": "execute_result",
          "data": {
            "text/plain": [
              "True"
            ]
          },
          "metadata": {
            "tags": []
          },
          "execution_count": 18
        }
      ]
    },
    {
      "cell_type": "code",
      "metadata": {
        "id": "4bEXedjmQ7c3"
      },
      "source": [
        "from nltk.stem.porter import PorterStemmer\n",
        "ps = PorterStemmer()\n",
        "corpus = []\n",
        "for i in range(0, len(messages)):\n",
        "    review = re.sub('[^a-zA-Z]', ' ', messages['title'][i])\n",
        "    review = review.lower()\n",
        "    review = review.split()\n",
        "    \n",
        "    review = [ps.stem(word) for word in review if not word in stopwords.words('english')]\n",
        "    review = ' '.join(review)\n",
        "    corpus.append(review)"
      ],
      "execution_count": 19,
      "outputs": []
    },
    {
      "cell_type": "code",
      "metadata": {
        "colab": {
          "base_uri": "https://localhost:8080/",
          "height": 36
        },
        "id": "Anj4UKNjQ7c3",
        "outputId": "23b9a5e6-abb1-4091-c03d-d172a946cf91"
      },
      "source": [
        "corpus[3]"
      ],
      "execution_count": 20,
      "outputs": [
        {
          "output_type": "execute_result",
          "data": {
            "application/vnd.google.colaboratory.intrinsic+json": {
              "type": "string"
            },
            "text/plain": [
              "'civilian kill singl us airstrik identifi'"
            ]
          },
          "metadata": {
            "tags": []
          },
          "execution_count": 20
        }
      ]
    },
    {
      "cell_type": "code",
      "metadata": {
        "colab": {
          "base_uri": "https://localhost:8080/"
        },
        "id": "2Tz7iuJWQ7c4",
        "outputId": "78b0e0ae-2787-414f-e0c0-1f5e868898ee"
      },
      "source": [
        "onehot_repr=[one_hot(words,voc_size)for words in corpus] \n",
        "onehot_repr[:10]"
      ],
      "execution_count": 21,
      "outputs": [
        {
          "output_type": "execute_result",
          "data": {
            "text/plain": [
              "[[1789, 130, 3735, 1761, 2306, 1774, 1700, 2229, 478, 4685],\n",
              " [3162, 2659, 1413, 4940, 616, 2419, 2952],\n",
              " [2976, 935, 688, 3773],\n",
              " [781, 4413, 905, 1156, 4023, 3007],\n",
              " [4740, 616, 3656, 4252, 1616, 3924, 616, 750, 2008, 2864],\n",
              " [2701,\n",
              "  65,\n",
              "  1794,\n",
              "  4465,\n",
              "  504,\n",
              "  997,\n",
              "  4123,\n",
              "  4666,\n",
              "  1690,\n",
              "  2467,\n",
              "  3739,\n",
              "  3974,\n",
              "  1685,\n",
              "  1141,\n",
              "  2952],\n",
              " [1363, 1415, 3609, 3894, 4801, 2718, 1810, 451, 4309, 2189, 1352],\n",
              " [2169, 338, 4811, 2822, 4925, 2126, 997, 805, 4309, 2189, 1352],\n",
              " [667, 1717, 4360, 2028, 4788, 2196, 2060, 1141, 997, 999],\n",
              " [2676, 4105, 2964, 1107, 3911, 1909, 809, 121]]"
            ]
          },
          "metadata": {
            "tags": []
          },
          "execution_count": 21
        }
      ]
    },
    {
      "cell_type": "markdown",
      "metadata": {
        "id": "ahxN6_2yQ7c4"
      },
      "source": [
        "## Embedding Representation"
      ]
    },
    {
      "cell_type": "code",
      "metadata": {
        "colab": {
          "base_uri": "https://localhost:8080/"
        },
        "id": "HtBPpwq8Q7c4",
        "outputId": "a33a14d1-1ed2-4c3d-a8d1-b9f7400bc01c"
      },
      "source": [
        "sent_length=20\n",
        "embedded_docs=pad_sequences(onehot_repr,padding='pre',maxlen=sent_length)\n",
        "print(embedded_docs)"
      ],
      "execution_count": 22,
      "outputs": [
        {
          "output_type": "stream",
          "text": [
            "[[   0    0    0 ... 2229  478 4685]\n",
            " [   0    0    0 ...  616 2419 2952]\n",
            " [   0    0    0 ...  935  688 3773]\n",
            " ...\n",
            " [   0    0    0 ... 4309 2189 1352]\n",
            " [   0    0    0 ... 2957 3767  739]\n",
            " [   0    0    0 ... 4065 3930 2863]]\n"
          ],
          "name": "stdout"
        }
      ]
    },
    {
      "cell_type": "code",
      "metadata": {
        "colab": {
          "base_uri": "https://localhost:8080/"
        },
        "id": "01XvWv4KQ7c4",
        "outputId": "244d18bd-f62a-4376-d2a8-705ec6b32362"
      },
      "source": [
        "embedded_docs[0]"
      ],
      "execution_count": 23,
      "outputs": [
        {
          "output_type": "execute_result",
          "data": {
            "text/plain": [
              "array([   0,    0,    0,    0,    0,    0,    0,    0,    0,    0, 1789,\n",
              "        130, 3735, 1761, 2306, 1774, 1700, 2229,  478, 4685], dtype=int32)"
            ]
          },
          "metadata": {
            "tags": []
          },
          "execution_count": 23
        }
      ]
    },
    {
      "cell_type": "markdown",
      "metadata": {
        "id": "26JRO2j6bhxh"
      },
      "source": [
        "# Model"
      ]
    },
    {
      "cell_type": "code",
      "metadata": {
        "scrolled": true,
        "colab": {
          "base_uri": "https://localhost:8080/"
        },
        "id": "m3VA98jkQ7c4",
        "outputId": "968b804a-d50b-4d74-99be-26291309466d"
      },
      "source": [
        "embedding_vector_features=40\n",
        "model=Sequential()\n",
        "model.add(Embedding(voc_size,embedding_vector_features,input_length=sent_length))\n",
        "model.add(LSTM(100))\n",
        "model.add(Dense(1,activation='sigmoid'))\n",
        "model.compile(loss='binary_crossentropy',optimizer='adam',metrics=['accuracy'])\n",
        "print(model.summary())"
      ],
      "execution_count": 24,
      "outputs": [
        {
          "output_type": "stream",
          "text": [
            "Model: \"sequential\"\n",
            "_________________________________________________________________\n",
            "Layer (type)                 Output Shape              Param #   \n",
            "=================================================================\n",
            "embedding (Embedding)        (None, 20, 40)            200000    \n",
            "_________________________________________________________________\n",
            "lstm (LSTM)                  (None, 100)               56400     \n",
            "_________________________________________________________________\n",
            "dense (Dense)                (None, 1)                 101       \n",
            "=================================================================\n",
            "Total params: 256,501\n",
            "Trainable params: 256,501\n",
            "Non-trainable params: 0\n",
            "_________________________________________________________________\n",
            "None\n"
          ],
          "name": "stdout"
        }
      ]
    },
    {
      "cell_type": "code",
      "metadata": {
        "colab": {
          "base_uri": "https://localhost:8080/"
        },
        "id": "JFaWwRH1Q7c4",
        "outputId": "2e64a19b-4df2-46ef-d2fe-d3f569309fb8"
      },
      "source": [
        "len(embedded_docs),y.shape"
      ],
      "execution_count": 25,
      "outputs": [
        {
          "output_type": "execute_result",
          "data": {
            "text/plain": [
              "(18285, (18285,))"
            ]
          },
          "metadata": {
            "tags": []
          },
          "execution_count": 25
        }
      ]
    },
    {
      "cell_type": "code",
      "metadata": {
        "id": "xIrf3IdPQ7c5"
      },
      "source": [
        "import numpy as np\n",
        "X_final=np.array(embedded_docs)\n",
        "y_final=np.array(y)"
      ],
      "execution_count": 26,
      "outputs": []
    },
    {
      "cell_type": "code",
      "metadata": {
        "colab": {
          "base_uri": "https://localhost:8080/"
        },
        "id": "Hrxwxj1HQ7c5",
        "outputId": "c8f975e9-c922-406a-8607-fce782faea70"
      },
      "source": [
        "X_final.shape,y_final.shape"
      ],
      "execution_count": 27,
      "outputs": [
        {
          "output_type": "execute_result",
          "data": {
            "text/plain": [
              "((18285, 20), (18285,))"
            ]
          },
          "metadata": {
            "tags": []
          },
          "execution_count": 27
        }
      ]
    },
    {
      "cell_type": "code",
      "metadata": {
        "id": "jYa3f1bVQ7c5"
      },
      "source": [
        "from sklearn.model_selection import train_test_split\n",
        "X_train, X_test, y_train, y_test = train_test_split(X_final, y_final, test_size=0.33, random_state=42)"
      ],
      "execution_count": 28,
      "outputs": []
    },
    {
      "cell_type": "code",
      "metadata": {
        "id": "Vy1juPnccO3t"
      },
      "source": [
        "from tensorflow.keras.layers import Dropout"
      ],
      "execution_count": 29,
      "outputs": []
    },
    {
      "cell_type": "code",
      "metadata": {
        "id": "HWgWnvsPQ7c5"
      },
      "source": [
        "embedding_vector_features=40\n",
        "model=Sequential()\n",
        "model.add(Embedding(voc_size,embedding_vector_features,input_length=sent_length))\n",
        "model.add(Dropout(0.3))\n",
        "model.add(LSTM(100))\n",
        "model.add(Dropout(0.3))\n",
        "model.add(Dense(1,activation='sigmoid'))\n",
        "model.compile(loss='binary_crossentropy',optimizer='adam',metrics=['accuracy'])"
      ],
      "execution_count": 30,
      "outputs": []
    },
    {
      "cell_type": "markdown",
      "metadata": {
        "id": "n93q5YtqQ7c5"
      },
      "source": [
        "### Model Training"
      ]
    },
    {
      "cell_type": "code",
      "metadata": {
        "colab": {
          "base_uri": "https://localhost:8080/"
        },
        "id": "EVULpdTeQ7c5",
        "outputId": "4e679b1a-8a38-43a8-d47d-337df28c4f90"
      },
      "source": [
        "model.fit(X_train,y_train,validation_data=(X_test,y_test),epochs=50,batch_size=64)"
      ],
      "execution_count": 31,
      "outputs": [
        {
          "output_type": "stream",
          "text": [
            "Epoch 1/50\n",
            "192/192 [==============================] - 7s 37ms/step - loss: 0.3406 - accuracy: 0.8353 - val_loss: 0.2078 - val_accuracy: 0.9105\n",
            "Epoch 2/50\n",
            "192/192 [==============================] - 7s 35ms/step - loss: 0.1502 - accuracy: 0.9423 - val_loss: 0.1962 - val_accuracy: 0.9162\n",
            "Epoch 3/50\n",
            "192/192 [==============================] - 7s 35ms/step - loss: 0.1100 - accuracy: 0.9579 - val_loss: 0.2148 - val_accuracy: 0.9170\n",
            "Epoch 4/50\n",
            "192/192 [==============================] - 7s 34ms/step - loss: 0.0824 - accuracy: 0.9699 - val_loss: 0.2334 - val_accuracy: 0.9150\n",
            "Epoch 5/50\n",
            "192/192 [==============================] - 6s 34ms/step - loss: 0.0672 - accuracy: 0.9762 - val_loss: 0.2962 - val_accuracy: 0.9118\n",
            "Epoch 6/50\n",
            "192/192 [==============================] - 6s 34ms/step - loss: 0.0535 - accuracy: 0.9820 - val_loss: 0.2855 - val_accuracy: 0.9109\n",
            "Epoch 7/50\n",
            "192/192 [==============================] - 6s 34ms/step - loss: 0.0400 - accuracy: 0.9869 - val_loss: 0.3578 - val_accuracy: 0.9089\n",
            "Epoch 8/50\n",
            "192/192 [==============================] - 6s 34ms/step - loss: 0.0314 - accuracy: 0.9904 - val_loss: 0.3209 - val_accuracy: 0.9062\n",
            "Epoch 9/50\n",
            "192/192 [==============================] - 7s 34ms/step - loss: 0.0255 - accuracy: 0.9923 - val_loss: 0.3497 - val_accuracy: 0.9014\n",
            "Epoch 10/50\n",
            "192/192 [==============================] - 7s 34ms/step - loss: 0.0218 - accuracy: 0.9921 - val_loss: 0.3861 - val_accuracy: 0.9104\n",
            "Epoch 11/50\n",
            "192/192 [==============================] - 7s 34ms/step - loss: 0.0175 - accuracy: 0.9943 - val_loss: 0.4897 - val_accuracy: 0.9110\n",
            "Epoch 12/50\n",
            "192/192 [==============================] - 6s 34ms/step - loss: 0.0129 - accuracy: 0.9956 - val_loss: 0.4989 - val_accuracy: 0.9125\n",
            "Epoch 13/50\n",
            "192/192 [==============================] - 7s 34ms/step - loss: 0.0118 - accuracy: 0.9958 - val_loss: 0.4923 - val_accuracy: 0.9090\n",
            "Epoch 14/50\n",
            "192/192 [==============================] - 6s 34ms/step - loss: 0.0103 - accuracy: 0.9967 - val_loss: 0.5965 - val_accuracy: 0.9074\n",
            "Epoch 15/50\n",
            "192/192 [==============================] - 7s 34ms/step - loss: 0.0084 - accuracy: 0.9968 - val_loss: 0.5754 - val_accuracy: 0.9105\n",
            "Epoch 16/50\n",
            "192/192 [==============================] - 7s 34ms/step - loss: 0.0066 - accuracy: 0.9975 - val_loss: 0.5595 - val_accuracy: 0.9110\n",
            "Epoch 17/50\n",
            "192/192 [==============================] - 7s 34ms/step - loss: 0.0085 - accuracy: 0.9975 - val_loss: 0.5515 - val_accuracy: 0.9102\n",
            "Epoch 18/50\n",
            "192/192 [==============================] - 7s 34ms/step - loss: 0.0065 - accuracy: 0.9976 - val_loss: 0.6258 - val_accuracy: 0.9080\n",
            "Epoch 19/50\n",
            "192/192 [==============================] - 7s 34ms/step - loss: 0.0072 - accuracy: 0.9976 - val_loss: 0.6122 - val_accuracy: 0.9110\n",
            "Epoch 20/50\n",
            "192/192 [==============================] - 7s 34ms/step - loss: 0.0050 - accuracy: 0.9984 - val_loss: 0.6758 - val_accuracy: 0.9057\n",
            "Epoch 21/50\n",
            "192/192 [==============================] - 7s 34ms/step - loss: 0.0076 - accuracy: 0.9973 - val_loss: 0.6878 - val_accuracy: 0.9049\n",
            "Epoch 22/50\n",
            "192/192 [==============================] - 7s 34ms/step - loss: 0.0094 - accuracy: 0.9968 - val_loss: 0.5965 - val_accuracy: 0.9095\n",
            "Epoch 23/50\n",
            "192/192 [==============================] - 6s 34ms/step - loss: 0.0042 - accuracy: 0.9984 - val_loss: 0.6395 - val_accuracy: 0.9075\n",
            "Epoch 24/50\n",
            "192/192 [==============================] - 6s 34ms/step - loss: 0.0032 - accuracy: 0.9987 - val_loss: 0.7361 - val_accuracy: 0.9079\n",
            "Epoch 25/50\n",
            "192/192 [==============================] - 7s 34ms/step - loss: 0.0032 - accuracy: 0.9987 - val_loss: 0.6791 - val_accuracy: 0.9082\n",
            "Epoch 26/50\n",
            "192/192 [==============================] - 7s 34ms/step - loss: 0.0039 - accuracy: 0.9985 - val_loss: 0.6974 - val_accuracy: 0.9069\n",
            "Epoch 27/50\n",
            "192/192 [==============================] - 6s 34ms/step - loss: 0.0081 - accuracy: 0.9973 - val_loss: 0.4977 - val_accuracy: 0.9095\n",
            "Epoch 28/50\n",
            "192/192 [==============================] - 7s 35ms/step - loss: 0.0039 - accuracy: 0.9990 - val_loss: 0.6520 - val_accuracy: 0.9074\n",
            "Epoch 29/50\n",
            "192/192 [==============================] - 7s 34ms/step - loss: 0.0020 - accuracy: 0.9995 - val_loss: 0.6867 - val_accuracy: 0.9092\n",
            "Epoch 30/50\n",
            "192/192 [==============================] - 7s 34ms/step - loss: 0.0024 - accuracy: 0.9993 - val_loss: 0.6426 - val_accuracy: 0.9077\n",
            "Epoch 31/50\n",
            "192/192 [==============================] - 7s 34ms/step - loss: 0.0032 - accuracy: 0.9991 - val_loss: 0.7250 - val_accuracy: 0.9079\n",
            "Epoch 32/50\n",
            "192/192 [==============================] - 7s 34ms/step - loss: 0.0022 - accuracy: 0.9995 - val_loss: 0.6923 - val_accuracy: 0.9079\n",
            "Epoch 33/50\n",
            "192/192 [==============================] - 7s 34ms/step - loss: 0.0025 - accuracy: 0.9995 - val_loss: 0.7247 - val_accuracy: 0.9037\n",
            "Epoch 34/50\n",
            "192/192 [==============================] - 7s 34ms/step - loss: 0.0013 - accuracy: 0.9998 - val_loss: 0.7859 - val_accuracy: 0.9118\n",
            "Epoch 35/50\n",
            "192/192 [==============================] - 7s 34ms/step - loss: 0.0039 - accuracy: 0.9988 - val_loss: 0.7502 - val_accuracy: 0.9062\n",
            "Epoch 36/50\n",
            "192/192 [==============================] - 7s 34ms/step - loss: 0.0022 - accuracy: 0.9993 - val_loss: 0.6347 - val_accuracy: 0.9100\n",
            "Epoch 37/50\n",
            "192/192 [==============================] - 7s 34ms/step - loss: 0.0032 - accuracy: 0.9990 - val_loss: 0.6917 - val_accuracy: 0.9095\n",
            "Epoch 38/50\n",
            "192/192 [==============================] - 6s 34ms/step - loss: 0.0026 - accuracy: 0.9991 - val_loss: 0.7289 - val_accuracy: 0.9056\n",
            "Epoch 39/50\n",
            "192/192 [==============================] - 7s 34ms/step - loss: 9.1850e-04 - accuracy: 0.9999 - val_loss: 0.8758 - val_accuracy: 0.9024\n",
            "Epoch 40/50\n",
            "192/192 [==============================] - 6s 34ms/step - loss: 0.0019 - accuracy: 0.9993 - val_loss: 0.8173 - val_accuracy: 0.9072\n",
            "Epoch 41/50\n",
            "192/192 [==============================] - 7s 35ms/step - loss: 0.0028 - accuracy: 0.9988 - val_loss: 0.7013 - val_accuracy: 0.9084\n",
            "Epoch 42/50\n",
            "192/192 [==============================] - 7s 34ms/step - loss: 0.0049 - accuracy: 0.9987 - val_loss: 0.6416 - val_accuracy: 0.9125\n",
            "Epoch 43/50\n",
            "192/192 [==============================] - 7s 34ms/step - loss: 0.0016 - accuracy: 0.9994 - val_loss: 0.7819 - val_accuracy: 0.9089\n",
            "Epoch 44/50\n",
            "192/192 [==============================] - 7s 34ms/step - loss: 0.0014 - accuracy: 0.9994 - val_loss: 0.7876 - val_accuracy: 0.9135\n",
            "Epoch 45/50\n",
            "192/192 [==============================] - 7s 35ms/step - loss: 0.0022 - accuracy: 0.9995 - val_loss: 0.6714 - val_accuracy: 0.9095\n",
            "Epoch 46/50\n",
            "192/192 [==============================] - 7s 34ms/step - loss: 0.0017 - accuracy: 0.9994 - val_loss: 0.7889 - val_accuracy: 0.9130\n",
            "Epoch 47/50\n",
            "192/192 [==============================] - 7s 34ms/step - loss: 0.0022 - accuracy: 0.9992 - val_loss: 0.7969 - val_accuracy: 0.9090\n",
            "Epoch 48/50\n",
            "192/192 [==============================] - 7s 34ms/step - loss: 0.0019 - accuracy: 0.9993 - val_loss: 0.7486 - val_accuracy: 0.9109\n",
            "Epoch 49/50\n",
            "192/192 [==============================] - 7s 35ms/step - loss: 0.0018 - accuracy: 0.9995 - val_loss: 0.8017 - val_accuracy: 0.9079\n",
            "Epoch 50/50\n",
            "192/192 [==============================] - 7s 36ms/step - loss: 7.3866e-04 - accuracy: 0.9997 - val_loss: 0.8307 - val_accuracy: 0.9080\n"
          ],
          "name": "stdout"
        },
        {
          "output_type": "execute_result",
          "data": {
            "text/plain": [
              "<tensorflow.python.keras.callbacks.History at 0x7f3f8595dfd0>"
            ]
          },
          "metadata": {
            "tags": []
          },
          "execution_count": 31
        }
      ]
    },
    {
      "cell_type": "markdown",
      "metadata": {
        "id": "3Ag3YNY2Q7c5"
      },
      "source": [
        "### Performance Metrics And Accuracy"
      ]
    },
    {
      "cell_type": "code",
      "metadata": {
        "id": "i96M7EXqQ7c5",
        "colab": {
          "base_uri": "https://localhost:8080/"
        },
        "outputId": "f7628a99-6605-4cf0-ec11-74f10af2b150"
      },
      "source": [
        "y_pred=model.predict_classes(X_test)"
      ],
      "execution_count": 32,
      "outputs": [
        {
          "output_type": "stream",
          "text": [
            "WARNING:tensorflow:From <ipython-input-32-66f7fe571d01>:1: Sequential.predict_classes (from tensorflow.python.keras.engine.sequential) is deprecated and will be removed after 2021-01-01.\n",
            "Instructions for updating:\n",
            "Please use instead:* `np.argmax(model.predict(x), axis=-1)`,   if your model does multi-class classification   (e.g. if it uses a `softmax` last-layer activation).* `(model.predict(x) > 0.5).astype(\"int32\")`,   if your model does binary classification   (e.g. if it uses a `sigmoid` last-layer activation).\n"
          ],
          "name": "stdout"
        }
      ]
    },
    {
      "cell_type": "code",
      "metadata": {
        "colab": {
          "base_uri": "https://localhost:8080/"
        },
        "id": "IJI5CiIxjmLK",
        "outputId": "d3842d00-6713-41df-ac71-af4f681ac3c0"
      },
      "source": [
        "y_pred[:10]"
      ],
      "execution_count": 33,
      "outputs": [
        {
          "output_type": "execute_result",
          "data": {
            "text/plain": [
              "array([[1],\n",
              "       [0],\n",
              "       [0],\n",
              "       [0],\n",
              "       [1],\n",
              "       [1],\n",
              "       [1],\n",
              "       [1],\n",
              "       [1],\n",
              "       [1]], dtype=int32)"
            ]
          },
          "metadata": {
            "tags": []
          },
          "execution_count": 33
        }
      ]
    },
    {
      "cell_type": "code",
      "metadata": {
        "id": "w5zv4vFIQ7c5"
      },
      "source": [
        "from sklearn.metrics import confusion_matrix"
      ],
      "execution_count": 34,
      "outputs": []
    },
    {
      "cell_type": "code",
      "metadata": {
        "colab": {
          "base_uri": "https://localhost:8080/"
        },
        "id": "R_iKMrP-Q7c5",
        "outputId": "63cac22a-5396-48e1-9e31-beef519c7392"
      },
      "source": [
        "confusion_matrix(y_test,y_pred)"
      ],
      "execution_count": 35,
      "outputs": [
        {
          "output_type": "execute_result",
          "data": {
            "text/plain": [
              "array([[3147,  272],\n",
              "       [ 283, 2333]])"
            ]
          },
          "metadata": {
            "tags": []
          },
          "execution_count": 35
        }
      ]
    },
    {
      "cell_type": "code",
      "metadata": {
        "id": "VReAeA1lQ7c5",
        "colab": {
          "base_uri": "https://localhost:8080/"
        },
        "outputId": "7a16ebbd-f368-4cd8-e696-e8c7ffee8209"
      },
      "source": [
        "from sklearn.metrics import accuracy_score\n",
        "accuracy_score(y_test,y_pred)"
      ],
      "execution_count": 36,
      "outputs": [
        {
          "output_type": "execute_result",
          "data": {
            "text/plain": [
              "0.908036454018227"
            ]
          },
          "metadata": {
            "tags": []
          },
          "execution_count": 36
        }
      ]
    }
  ]
}